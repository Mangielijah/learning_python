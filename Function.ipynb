{
  "nbformat": 4,
  "nbformat_minor": 0,
  "metadata": {
    "colab": {
      "name": "Function.ipynb",
      "version": "0.3.2",
      "provenance": [],
      "collapsed_sections": [],
      "include_colab_link": true
    },
    "kernelspec": {
      "name": "python3",
      "display_name": "Python 3"
    }
  },
  "cells": [
    {
      "cell_type": "markdown",
      "metadata": {
        "id": "view-in-github",
        "colab_type": "text"
      },
      "source": [
        "<a href=\"https://colab.research.google.com/github/Mangielijah/learning_python/blob/master/Function.ipynb\" target=\"_parent\"><img src=\"https://colab.research.google.com/assets/colab-badge.svg\" alt=\"Open In Colab\"/></a>"
      ]
    },
    {
      "metadata": {
        "id": "smQvBfayCrpj",
        "colab_type": "code",
        "colab": {}
      },
      "cell_type": "code",
      "source": [
        "def sum_number(lst) :\n",
        "  \"\"\"\n",
        "    Sums number in a list\n",
        "    INPUT: list of numbers\n",
        "    OUTPUT: total sum\n",
        "  \"\"\"\n",
        "  sum = 0;\n",
        "  \n",
        "  for number in lst :\n",
        "    sum += number\n",
        "    \n",
        "  return sum\n",
        "\n",
        "lst_numbers = list(range(30))\n",
        "print(\"Sum: \",sum_number(lst_numbers))"
      ],
      "execution_count": 0,
      "outputs": []
    },
    {
      "metadata": {
        "id": "Hw8SbjlJGr-L",
        "colab_type": "code",
        "colab": {
          "base_uri": "https://localhost:8080/",
          "height": 35
        },
        "outputId": "6b565ab9-7d75-4747-9a09-9fe81675d727"
      },
      "cell_type": "code",
      "source": [
        "def squareNumber(number) :\n",
        "  \"\"\"\n",
        "    Function that return the square of a number\n",
        "    INPUT: Integer \n",
        "    OUTPUT: Square of the input //Integer\n",
        "  \"\"\"\n",
        "  return number**2\n",
        "\n",
        "print(\"Square of 8 is: \", squareNumber(8))"
      ],
      "execution_count": 2,
      "outputs": [
        {
          "output_type": "stream",
          "text": [
            "Square of 8 is:  64\n"
          ],
          "name": "stdout"
        }
      ]
    },
    {
      "metadata": {
        "id": "qJHrmHTEHPQE",
        "colab_type": "code",
        "colab": {}
      },
      "cell_type": "code",
      "source": [
        "def add(num1, num2) :\n",
        "  \"\"\"\n",
        "    Function to add two numbers\n",
        "    INPUT: Two integers //Scalars\n",
        "    OUTPUT: Integer (Sum of the input) //Scalar\n",
        "  \"\"\"\n",
        "  \n",
        "  return num1 + num2\n",
        "\n",
        "print(\"Sum of 2 and 3 is: \", add(2, 3))"
      ],
      "execution_count": 0,
      "outputs": []
    },
    {
      "metadata": {
        "id": "rWyx2L3xH_Hi",
        "colab_type": "code",
        "colab": {
          "base_uri": "https://localhost:8080/",
          "height": 35
        },
        "outputId": "ce3e787b-2210-4c1c-f0a7-2d3218c23696"
      },
      "cell_type": "code",
      "source": [
        "def listLength(lst) :\n",
        "  \"\"\"\n",
        "    Function return the lenght of a list\n",
        "    INPUT: list of string, number etc\n",
        "    OUTPUT: Scalar designating the lenght of the list\n",
        "  \"\"\"\n",
        "  return len(lst)\n",
        "print(listLength([i for i in range(100) if i % 5 is 0]))"
      ],
      "execution_count": 6,
      "outputs": [
        {
          "output_type": "stream",
          "text": [
            "20\n"
          ],
          "name": "stdout"
        }
      ]
    },
    {
      "metadata": {
        "id": "uxOPjPb7HZfZ",
        "colab_type": "code",
        "colab": {}
      },
      "cell_type": "code",
      "source": [
        "def strContain(string) :\n",
        "  \"\"\"\n",
        "    Write a function that tells you whether or not the word 'cat' is in a string\n",
        "    INPUT: string example \"mangi is a dog\", \"animal are cat in nature\" etc\n",
        "    OUTPUT: String contains cat\n",
        "  \"\"\"\n",
        "  if (\"cat\" in string) :\n",
        "    print(string, \" contains cat\")\n",
        "  else:\n",
        "    print (string, \" does not contain cat\")\n",
        "    \n",
        "strContain(\"mangi is a dog\")\n",
        "strContain(\"animal are cat in nature\")"
      ],
      "execution_count": 0,
      "outputs": []
    },
    {
      "metadata": {
        "id": "dFq-5CpILZQ9",
        "colab_type": "code",
        "colab": {
          "base_uri": "https://localhost:8080/",
          "height": 35
        },
        "outputId": "3f8359b4-3853-4bc1-fc76-6ec5c09b59a5"
      },
      "cell_type": "code",
      "source": [
        "def index_equal(lst) :\n",
        "  \"\"\"\n",
        "    Given a list, write a function called index_equals that returns\n",
        "    only the values inside the list that where the index matches the value in the list.\n",
        "  \"\"\"\n",
        "  count = 0\n",
        "  tmp_lst = []\n",
        "  \n",
        "  for number in lst :\n",
        "    \n",
        "    if number is count :\n",
        "      tmp_lst.append(number)\n",
        "      \n",
        "    count += 1\n",
        "      \n",
        "  return tmp_lst;\n",
        "\n",
        "x = [1,1,2,3,6]\n",
        "print(index_equal(x))"
      ],
      "execution_count": 16,
      "outputs": [
        {
          "output_type": "stream",
          "text": [
            "[1, 2, 3]\n"
          ],
          "name": "stdout"
        }
      ]
    },
    {
      "metadata": {
        "id": "BthtJyrWN2lE",
        "colab_type": "code",
        "colab": {}
      },
      "cell_type": "code",
      "source": [
        ""
      ],
      "execution_count": 0,
      "outputs": []
    }
  ]
}