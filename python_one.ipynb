{
  "nbformat": 4,
  "nbformat_minor": 0,
  "metadata": {
    "colab": {
      "name": "Untitled0.ipynb",
      "version": "0.3.2",
      "provenance": [],
      "collapsed_sections": [],
      "include_colab_link": true
    },
    "kernelspec": {
      "name": "python3",
      "display_name": "Python 3"
    }
  },
  "cells": [
    {
      "cell_type": "markdown",
      "metadata": {
        "id": "view-in-github",
        "colab_type": "text"
      },
      "source": [
        "<a href=\"https://colab.research.google.com/github/Mangielijah/learning_python/blob/master/python_one.ipynb\" target=\"_parent\"><img src=\"https://colab.research.google.com/assets/colab-badge.svg\" alt=\"Open In Colab\"/></a>"
      ]
    },
    {
      "metadata": {
        "id": "pUOOhGh1nczO",
        "colab_type": "code",
        "colab": {}
      },
      "cell_type": "code",
      "source": [
        "lst_name = [\"Mangi\", \"Elijah\", \"Nchimenhyi\"]\n",
        "\n",
        "for name in lst_name:\n",
        "    print(name.upper())\n",
        "fact = 1\n",
        "for count in range(1, 6):\n",
        "  fact = fact * count\n",
        "\n",
        "print(fact)"
      ],
      "execution_count": 0,
      "outputs": []
    },
    {
      "metadata": {
        "id": "DH8TIgEJxcj6",
        "colab_type": "code",
        "colab": {}
      },
      "cell_type": "code",
      "source": [
        "count = 0\n",
        "while count in range(20):\n",
        "  print(count)\n",
        "  count += 1"
      ],
      "execution_count": 0,
      "outputs": []
    },
    {
      "metadata": {
        "id": "qRYkpJ2F26Dm",
        "colab_type": "code",
        "colab": {
          "base_uri": "https://localhost:8080/",
          "height": 88
        },
        "outputId": "50858982-7e85-42c6-a89f-65105efbc198"
      },
      "cell_type": "code",
      "source": [
        "sum = 0\n",
        "lst_marks = [12,13,9,15,2,1,19]\n",
        "for mark in lst_marks :\n",
        "  if mark % 3 is 0 :\n",
        "    print(mark)\n",
        "    sum += mark\n",
        "  \n",
        "print(\"The sum is: \", sum)"
      ],
      "execution_count": 28,
      "outputs": [
        {
          "output_type": "stream",
          "text": [
            "12\n",
            "9\n",
            "15\n",
            "The sum is:  36\n"
          ],
          "name": "stdout"
        }
      ]
    }
  ]
}